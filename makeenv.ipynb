{
  "cells": [
    {
      "cell_type": "code",
      "source": [
        "from google.colab import drive\n",
        "drive.mount('/content/drive')"
      ],
      "metadata": {
        "colab": {
          "base_uri": "https://localhost:8080/"
        },
        "id": "loM-kFspZOcK",
        "outputId": "e13d0643-ecff-4d3a-f26b-89b7b61a4667"
      },
      "execution_count": null,
      "outputs": [
        {
          "output_type": "stream",
          "name": "stdout",
          "text": [
            "Mounted at /content/drive\n"
          ]
        }
      ]
    },
    {
      "cell_type": "code",
      "source": [
        "!ls"
      ],
      "metadata": {
        "colab": {
          "base_uri": "https://localhost:8080/"
        },
        "id": "-L5wIahzaFTD",
        "outputId": "b79ee21e-ef66-46e9-f6d4-ff39a496d6e6"
      },
      "execution_count": null,
      "outputs": [
        {
          "output_type": "stream",
          "name": "stdout",
          "text": [
            "drive  sample_data\n"
          ]
        }
      ]
    },
    {
      "cell_type": "code",
      "source": [
        "%cd \"/content/drive/MyDrive/Colab Notebooks\""
      ],
      "metadata": {
        "colab": {
          "base_uri": "https://localhost:8080/"
        },
        "id": "Y-z4TOvuaH8a",
        "outputId": "3c3acbb0-d8f0-4d42-8130-59d8627571fe"
      },
      "execution_count": null,
      "outputs": [
        {
          "output_type": "stream",
          "name": "stdout",
          "text": [
            "/content/drive/MyDrive/Colab Notebooks\n"
          ]
        }
      ]
    },
    {
      "cell_type": "code",
      "source": [
        "!ls"
      ],
      "metadata": {
        "colab": {
          "base_uri": "https://localhost:8080/"
        },
        "id": "UHQ3Zn8KaOba",
        "outputId": "86e2ec68-6a16-4687-858e-1ee3f38361af"
      },
      "execution_count": null,
      "outputs": [
        {
          "output_type": "stream",
          "name": "stdout",
          "text": [
            " A0275194W.ipynb\t   context.py\t\t\t\t   requirements.txt\n",
            "'app store.ipynb'\t   data\t\t\t\t\t   run_clm_350m.sh\n",
            " assign1.ipynb\t\t   eval.py\t\t\t\t   run_clm.py\n",
            " Assignment_3.ipynb\t  'google store.ipynb'\t\t\t   run_clm.sh\n",
            " Assignment_5_副本.ipynb   logs\t\t\t\t\t   stockdata.ipynb\n",
            " Assignment6\t\t  'Machine learning Group Project.ipynb'   train.py\n",
            " ckpt-fp16\t\t  'makeenv (1).ipynb'\t\t\t   Untitled0.ipynb\n",
            " ckpt-fp32\t\t  'makeenv (2).ipynb'\t\t\t   Untitled1.ipynb\n",
            " ckpt-low_level_zero\t   makeenv.ipynb\t\t\t   utils.py\n",
            " colossalai_zero.py\t   __pycache__\t\t\t\t   ViT_Cifar10.ipynb\n"
          ]
        }
      ]
    },
    {
      "cell_type": "code",
      "source": [
        "!pip install -r requirements.txt"
      ],
      "metadata": {
        "id": "mq8uXX8kXaht",
        "colab": {
          "base_uri": "https://localhost:8080/"
        },
        "outputId": "f10e4538-f832-49c7-d91f-bcb9d4c0f4cb"
      },
      "execution_count": null,
      "outputs": [
        {
          "output_type": "stream",
          "name": "stdout",
          "text": [
            "Collecting colossalai (from -r requirements.txt (line 1))\n",
            "  Downloading colossalai-0.3.6.tar.gz (1.1 MB)\n",
            "\u001b[2K     \u001b[90m━━━━━━━━━━━━━━━━━━━━━━━━━━━━━━━━━━━━━━━━\u001b[0m \u001b[32m1.1/1.1 MB\u001b[0m \u001b[31m5.4 MB/s\u001b[0m eta \u001b[36m0:00:00\u001b[0m\n",
            "\u001b[?25h  Preparing metadata (setup.py) ... \u001b[?25l\u001b[?25hdone\n",
            "Requirement already satisfied: torch in /usr/local/lib/python3.10/dist-packages (from -r requirements.txt (line 2)) (2.2.1+cu121)\n",
            "Requirement already satisfied: torchvision in /usr/local/lib/python3.10/dist-packages (from -r requirements.txt (line 3)) (0.17.1+cu121)\n",
            "Requirement already satisfied: tqdm in /usr/local/lib/python3.10/dist-packages (from -r requirements.txt (line 4)) (4.66.2)\n",
            "Requirement already satisfied: pytest in /usr/local/lib/python3.10/dist-packages (from -r requirements.txt (line 5)) (7.4.4)\n",
            "Requirement already satisfied: numpy in /usr/local/lib/python3.10/dist-packages (from colossalai->-r requirements.txt (line 1)) (1.25.2)\n",
            "Requirement already satisfied: psutil in /usr/local/lib/python3.10/dist-packages (from colossalai->-r requirements.txt (line 1)) (5.9.5)\n",
            "Requirement already satisfied: packaging in /usr/local/lib/python3.10/dist-packages (from colossalai->-r requirements.txt (line 1)) (24.0)\n",
            "Collecting pre-commit (from colossalai->-r requirements.txt (line 1))\n",
            "  Downloading pre_commit-3.7.0-py2.py3-none-any.whl (204 kB)\n",
            "\u001b[2K     \u001b[90m━━━━━━━━━━━━━━━━━━━━━━━━━━━━━━━━━━━━━━━━\u001b[0m \u001b[32m204.2/204.2 kB\u001b[0m \u001b[31m20.3 MB/s\u001b[0m eta \u001b[36m0:00:00\u001b[0m\n",
            "\u001b[?25hRequirement already satisfied: rich in /usr/local/lib/python3.10/dist-packages (from colossalai->-r requirements.txt (line 1)) (13.7.1)\n",
            "Requirement already satisfied: click in /usr/local/lib/python3.10/dist-packages (from colossalai->-r requirements.txt (line 1)) (8.1.7)\n",
            "Collecting fabric (from colossalai->-r requirements.txt (line 1))\n",
            "  Downloading fabric-3.2.2-py3-none-any.whl (59 kB)\n",
            "\u001b[2K     \u001b[90m━━━━━━━━━━━━━━━━━━━━━━━━━━━━━━━━━━━━━━━━\u001b[0m \u001b[32m59.4/59.4 kB\u001b[0m \u001b[31m7.3 MB/s\u001b[0m eta \u001b[36m0:00:00\u001b[0m\n",
            "\u001b[?25hCollecting contexttimer (from colossalai->-r requirements.txt (line 1))\n",
            "  Downloading contexttimer-0.3.3.tar.gz (4.9 kB)\n",
            "  Preparing metadata (setup.py) ... \u001b[?25l\u001b[?25hdone\n",
            "Collecting ninja (from colossalai->-r requirements.txt (line 1))\n",
            "  Downloading ninja-1.11.1.1-py2.py3-none-manylinux1_x86_64.manylinux_2_5_x86_64.whl (307 kB)\n",
            "\u001b[2K     \u001b[90m━━━━━━━━━━━━━━━━━━━━━━━━━━━━━━━━━━━━━━━━\u001b[0m \u001b[32m307.2/307.2 kB\u001b[0m \u001b[31m29.4 MB/s\u001b[0m eta \u001b[36m0:00:00\u001b[0m\n",
            "\u001b[?25hRequirement already satisfied: safetensors in /usr/local/lib/python3.10/dist-packages (from colossalai->-r requirements.txt (line 1)) (0.4.2)\n",
            "Collecting einops (from colossalai->-r requirements.txt (line 1))\n",
            "  Downloading einops-0.7.0-py3-none-any.whl (44 kB)\n",
            "\u001b[2K     \u001b[90m━━━━━━━━━━━━━━━━━━━━━━━━━━━━━━━━━━━━━━━━\u001b[0m \u001b[32m44.6/44.6 kB\u001b[0m \u001b[31m5.0 MB/s\u001b[0m eta \u001b[36m0:00:00\u001b[0m\n",
            "\u001b[?25hRequirement already satisfied: pydantic in /usr/local/lib/python3.10/dist-packages (from colossalai->-r requirements.txt (line 1)) (2.6.4)\n",
            "Collecting ray (from colossalai->-r requirements.txt (line 1))\n",
            "  Downloading ray-2.10.0-cp310-cp310-manylinux2014_x86_64.whl (65.1 MB)\n",
            "\u001b[2K     \u001b[90m━━━━━━━━━━━━━━━━━━━━━━━━━━━━━━━━━━━━━━━━\u001b[0m \u001b[32m65.1/65.1 MB\u001b[0m \u001b[31m5.7 MB/s\u001b[0m eta \u001b[36m0:00:00\u001b[0m\n",
            "\u001b[?25hRequirement already satisfied: sentencepiece in /usr/local/lib/python3.10/dist-packages (from colossalai->-r requirements.txt (line 1)) (0.1.99)\n",
            "Requirement already satisfied: google in /usr/local/lib/python3.10/dist-packages (from colossalai->-r requirements.txt (line 1)) (2.0.3)\n",
            "Requirement already satisfied: protobuf in /usr/local/lib/python3.10/dist-packages (from colossalai->-r requirements.txt (line 1)) (3.20.3)\n",
            "Requirement already satisfied: filelock in /usr/local/lib/python3.10/dist-packages (from torch->-r requirements.txt (line 2)) (3.13.4)\n",
            "Requirement already satisfied: typing-extensions>=4.8.0 in /usr/local/lib/python3.10/dist-packages (from torch->-r requirements.txt (line 2)) (4.11.0)\n",
            "Requirement already satisfied: sympy in /usr/local/lib/python3.10/dist-packages (from torch->-r requirements.txt (line 2)) (1.12)\n",
            "Requirement already satisfied: networkx in /usr/local/lib/python3.10/dist-packages (from torch->-r requirements.txt (line 2)) (3.3)\n",
            "Requirement already satisfied: jinja2 in /usr/local/lib/python3.10/dist-packages (from torch->-r requirements.txt (line 2)) (3.1.3)\n",
            "Requirement already satisfied: fsspec in /usr/local/lib/python3.10/dist-packages (from torch->-r requirements.txt (line 2)) (2023.6.0)\n",
            "Collecting nvidia-cuda-nvrtc-cu12==12.1.105 (from torch->-r requirements.txt (line 2))\n",
            "  Using cached nvidia_cuda_nvrtc_cu12-12.1.105-py3-none-manylinux1_x86_64.whl (23.7 MB)\n",
            "Collecting nvidia-cuda-runtime-cu12==12.1.105 (from torch->-r requirements.txt (line 2))\n",
            "  Using cached nvidia_cuda_runtime_cu12-12.1.105-py3-none-manylinux1_x86_64.whl (823 kB)\n",
            "Collecting nvidia-cuda-cupti-cu12==12.1.105 (from torch->-r requirements.txt (line 2))\n",
            "  Using cached nvidia_cuda_cupti_cu12-12.1.105-py3-none-manylinux1_x86_64.whl (14.1 MB)\n",
            "Collecting nvidia-cudnn-cu12==8.9.2.26 (from torch->-r requirements.txt (line 2))\n",
            "  Using cached nvidia_cudnn_cu12-8.9.2.26-py3-none-manylinux1_x86_64.whl (731.7 MB)\n",
            "Collecting nvidia-cublas-cu12==12.1.3.1 (from torch->-r requirements.txt (line 2))\n",
            "  Using cached nvidia_cublas_cu12-12.1.3.1-py3-none-manylinux1_x86_64.whl (410.6 MB)\n",
            "Collecting nvidia-cufft-cu12==11.0.2.54 (from torch->-r requirements.txt (line 2))\n",
            "  Using cached nvidia_cufft_cu12-11.0.2.54-py3-none-manylinux1_x86_64.whl (121.6 MB)\n",
            "Collecting nvidia-curand-cu12==10.3.2.106 (from torch->-r requirements.txt (line 2))\n",
            "  Using cached nvidia_curand_cu12-10.3.2.106-py3-none-manylinux1_x86_64.whl (56.5 MB)\n",
            "Collecting nvidia-cusolver-cu12==11.4.5.107 (from torch->-r requirements.txt (line 2))\n",
            "  Using cached nvidia_cusolver_cu12-11.4.5.107-py3-none-manylinux1_x86_64.whl (124.2 MB)\n",
            "Collecting nvidia-cusparse-cu12==12.1.0.106 (from torch->-r requirements.txt (line 2))\n",
            "  Using cached nvidia_cusparse_cu12-12.1.0.106-py3-none-manylinux1_x86_64.whl (196.0 MB)\n",
            "Collecting nvidia-nccl-cu12==2.19.3 (from torch->-r requirements.txt (line 2))\n",
            "  Using cached nvidia_nccl_cu12-2.19.3-py3-none-manylinux1_x86_64.whl (166.0 MB)\n",
            "Collecting nvidia-nvtx-cu12==12.1.105 (from torch->-r requirements.txt (line 2))\n",
            "  Using cached nvidia_nvtx_cu12-12.1.105-py3-none-manylinux1_x86_64.whl (99 kB)\n",
            "Requirement already satisfied: triton==2.2.0 in /usr/local/lib/python3.10/dist-packages (from torch->-r requirements.txt (line 2)) (2.2.0)\n",
            "Collecting nvidia-nvjitlink-cu12 (from nvidia-cusolver-cu12==11.4.5.107->torch->-r requirements.txt (line 2))\n",
            "  Using cached nvidia_nvjitlink_cu12-12.4.127-py3-none-manylinux2014_x86_64.whl (21.1 MB)\n",
            "Requirement already satisfied: pillow!=8.3.*,>=5.3.0 in /usr/local/lib/python3.10/dist-packages (from torchvision->-r requirements.txt (line 3)) (9.4.0)\n",
            "Requirement already satisfied: iniconfig in /usr/local/lib/python3.10/dist-packages (from pytest->-r requirements.txt (line 5)) (2.0.0)\n",
            "Requirement already satisfied: pluggy<2.0,>=0.12 in /usr/local/lib/python3.10/dist-packages (from pytest->-r requirements.txt (line 5)) (1.4.0)\n",
            "Requirement already satisfied: exceptiongroup>=1.0.0rc8 in /usr/local/lib/python3.10/dist-packages (from pytest->-r requirements.txt (line 5)) (1.2.0)\n",
            "Requirement already satisfied: tomli>=1.0.0 in /usr/local/lib/python3.10/dist-packages (from pytest->-r requirements.txt (line 5)) (2.0.1)\n",
            "Collecting invoke>=2.0 (from fabric->colossalai->-r requirements.txt (line 1))\n",
            "  Downloading invoke-2.2.0-py3-none-any.whl (160 kB)\n",
            "\u001b[2K     \u001b[90m━━━━━━━━━━━━━━━━━━━━━━━━━━━━━━━━━━━━━━━━\u001b[0m \u001b[32m160.3/160.3 kB\u001b[0m \u001b[31m17.1 MB/s\u001b[0m eta \u001b[36m0:00:00\u001b[0m\n",
            "\u001b[?25hCollecting paramiko>=2.4 (from fabric->colossalai->-r requirements.txt (line 1))\n",
            "  Downloading paramiko-3.4.0-py3-none-any.whl (225 kB)\n",
            "\u001b[2K     \u001b[90m━━━━━━━━━━━━━━━━━━━━━━━━━━━━━━━━━━━━━━━━\u001b[0m \u001b[32m225.9/225.9 kB\u001b[0m \u001b[31m4.3 MB/s\u001b[0m eta \u001b[36m0:00:00\u001b[0m\n",
            "\u001b[?25hCollecting decorator>=5 (from fabric->colossalai->-r requirements.txt (line 1))\n",
            "  Downloading decorator-5.1.1-py3-none-any.whl (9.1 kB)\n",
            "Collecting deprecated>=1.2 (from fabric->colossalai->-r requirements.txt (line 1))\n",
            "  Downloading Deprecated-1.2.14-py2.py3-none-any.whl (9.6 kB)\n",
            "Requirement already satisfied: beautifulsoup4 in /usr/local/lib/python3.10/dist-packages (from google->colossalai->-r requirements.txt (line 1)) (4.12.3)\n",
            "Requirement already satisfied: MarkupSafe>=2.0 in /usr/local/lib/python3.10/dist-packages (from jinja2->torch->-r requirements.txt (line 2)) (2.1.5)\n",
            "Collecting cfgv>=2.0.0 (from pre-commit->colossalai->-r requirements.txt (line 1))\n",
            "  Downloading cfgv-3.4.0-py2.py3-none-any.whl (7.2 kB)\n",
            "Collecting identify>=1.0.0 (from pre-commit->colossalai->-r requirements.txt (line 1))\n",
            "  Downloading identify-2.5.35-py2.py3-none-any.whl (98 kB)\n",
            "\u001b[2K     \u001b[90m━━━━━━━━━━━━━━━━━━━━━━━━━━━━━━━━━━━━━━━━\u001b[0m \u001b[32m98.9/98.9 kB\u001b[0m \u001b[31m11.8 MB/s\u001b[0m eta \u001b[36m0:00:00\u001b[0m\n",
            "\u001b[?25hCollecting nodeenv>=0.11.1 (from pre-commit->colossalai->-r requirements.txt (line 1))\n",
            "  Downloading nodeenv-1.8.0-py2.py3-none-any.whl (22 kB)\n",
            "Requirement already satisfied: pyyaml>=5.1 in /usr/local/lib/python3.10/dist-packages (from pre-commit->colossalai->-r requirements.txt (line 1)) (6.0.1)\n",
            "Collecting virtualenv>=20.10.0 (from pre-commit->colossalai->-r requirements.txt (line 1))\n",
            "  Downloading virtualenv-20.25.1-py3-none-any.whl (3.8 MB)\n",
            "\u001b[2K     \u001b[90m━━━━━━━━━━━━━━━━━━━━━━━━━━━━━━━━━━━━━━━━\u001b[0m \u001b[32m3.8/3.8 MB\u001b[0m \u001b[31m10.7 MB/s\u001b[0m eta \u001b[36m0:00:00\u001b[0m\n",
            "\u001b[?25hRequirement already satisfied: annotated-types>=0.4.0 in /usr/local/lib/python3.10/dist-packages (from pydantic->colossalai->-r requirements.txt (line 1)) (0.6.0)\n",
            "Requirement already satisfied: pydantic-core==2.16.3 in /usr/local/lib/python3.10/dist-packages (from pydantic->colossalai->-r requirements.txt (line 1)) (2.16.3)\n",
            "Requirement already satisfied: jsonschema in /usr/local/lib/python3.10/dist-packages (from ray->colossalai->-r requirements.txt (line 1)) (4.19.2)\n",
            "Requirement already satisfied: msgpack<2.0.0,>=1.0.0 in /usr/local/lib/python3.10/dist-packages (from ray->colossalai->-r requirements.txt (line 1)) (1.0.8)\n",
            "Requirement already satisfied: aiosignal in /usr/local/lib/python3.10/dist-packages (from ray->colossalai->-r requirements.txt (line 1)) (1.3.1)\n",
            "Requirement already satisfied: frozenlist in /usr/local/lib/python3.10/dist-packages (from ray->colossalai->-r requirements.txt (line 1)) (1.4.1)\n",
            "Requirement already satisfied: requests in /usr/local/lib/python3.10/dist-packages (from ray->colossalai->-r requirements.txt (line 1)) (2.31.0)\n",
            "Requirement already satisfied: markdown-it-py>=2.2.0 in /usr/local/lib/python3.10/dist-packages (from rich->colossalai->-r requirements.txt (line 1)) (3.0.0)\n",
            "Requirement already satisfied: pygments<3.0.0,>=2.13.0 in /usr/local/lib/python3.10/dist-packages (from rich->colossalai->-r requirements.txt (line 1)) (2.16.1)\n",
            "Requirement already satisfied: mpmath>=0.19 in /usr/local/lib/python3.10/dist-packages (from sympy->torch->-r requirements.txt (line 2)) (1.3.0)\n",
            "Requirement already satisfied: wrapt<2,>=1.10 in /usr/local/lib/python3.10/dist-packages (from deprecated>=1.2->fabric->colossalai->-r requirements.txt (line 1)) (1.14.1)\n",
            "Requirement already satisfied: mdurl~=0.1 in /usr/local/lib/python3.10/dist-packages (from markdown-it-py>=2.2.0->rich->colossalai->-r requirements.txt (line 1)) (0.1.2)\n",
            "Requirement already satisfied: setuptools in /usr/local/lib/python3.10/dist-packages (from nodeenv>=0.11.1->pre-commit->colossalai->-r requirements.txt (line 1)) (67.7.2)\n",
            "Collecting bcrypt>=3.2 (from paramiko>=2.4->fabric->colossalai->-r requirements.txt (line 1))\n",
            "  Downloading bcrypt-4.1.2-cp39-abi3-manylinux_2_28_x86_64.whl (698 kB)\n",
            "\u001b[2K     \u001b[90m━━━━━━━━━━━━━━━━━━━━━━━━━━━━━━━━━━━━━━━━\u001b[0m \u001b[32m698.9/698.9 kB\u001b[0m \u001b[31m10.3 MB/s\u001b[0m eta \u001b[36m0:00:00\u001b[0m\n",
            "\u001b[?25hRequirement already satisfied: cryptography>=3.3 in /usr/local/lib/python3.10/dist-packages (from paramiko>=2.4->fabric->colossalai->-r requirements.txt (line 1)) (42.0.5)\n",
            "Collecting pynacl>=1.5 (from paramiko>=2.4->fabric->colossalai->-r requirements.txt (line 1))\n",
            "  Downloading PyNaCl-1.5.0-cp36-abi3-manylinux_2_17_x86_64.manylinux2014_x86_64.manylinux_2_24_x86_64.whl (856 kB)\n",
            "\u001b[2K     \u001b[90m━━━━━━━━━━━━━━━━━━━━━━━━━━━━━━━━━━━━━━━━\u001b[0m \u001b[32m856.7/856.7 kB\u001b[0m \u001b[31m11.8 MB/s\u001b[0m eta \u001b[36m0:00:00\u001b[0m\n",
            "\u001b[?25hCollecting distlib<1,>=0.3.7 (from virtualenv>=20.10.0->pre-commit->colossalai->-r requirements.txt (line 1))\n",
            "  Downloading distlib-0.3.8-py2.py3-none-any.whl (468 kB)\n",
            "\u001b[2K     \u001b[90m━━━━━━━━━━━━━━━━━━━━━━━━━━━━━━━━━━━━━━━━\u001b[0m \u001b[32m468.9/468.9 kB\u001b[0m \u001b[31m6.9 MB/s\u001b[0m eta \u001b[36m0:00:00\u001b[0m\n",
            "\u001b[?25hRequirement already satisfied: platformdirs<5,>=3.9.1 in /usr/local/lib/python3.10/dist-packages (from virtualenv>=20.10.0->pre-commit->colossalai->-r requirements.txt (line 1)) (4.2.0)\n",
            "Requirement already satisfied: soupsieve>1.2 in /usr/local/lib/python3.10/dist-packages (from beautifulsoup4->google->colossalai->-r requirements.txt (line 1)) (2.5)\n",
            "Requirement already satisfied: attrs>=22.2.0 in /usr/local/lib/python3.10/dist-packages (from jsonschema->ray->colossalai->-r requirements.txt (line 1)) (23.2.0)\n",
            "Requirement already satisfied: jsonschema-specifications>=2023.03.6 in /usr/local/lib/python3.10/dist-packages (from jsonschema->ray->colossalai->-r requirements.txt (line 1)) (2023.12.1)\n",
            "Requirement already satisfied: referencing>=0.28.4 in /usr/local/lib/python3.10/dist-packages (from jsonschema->ray->colossalai->-r requirements.txt (line 1)) (0.34.0)\n",
            "Requirement already satisfied: rpds-py>=0.7.1 in /usr/local/lib/python3.10/dist-packages (from jsonschema->ray->colossalai->-r requirements.txt (line 1)) (0.18.0)\n",
            "Requirement already satisfied: charset-normalizer<4,>=2 in /usr/local/lib/python3.10/dist-packages (from requests->ray->colossalai->-r requirements.txt (line 1)) (3.3.2)\n",
            "Requirement already satisfied: idna<4,>=2.5 in /usr/local/lib/python3.10/dist-packages (from requests->ray->colossalai->-r requirements.txt (line 1)) (3.6)\n",
            "Requirement already satisfied: urllib3<3,>=1.21.1 in /usr/local/lib/python3.10/dist-packages (from requests->ray->colossalai->-r requirements.txt (line 1)) (2.0.7)\n",
            "Requirement already satisfied: certifi>=2017.4.17 in /usr/local/lib/python3.10/dist-packages (from requests->ray->colossalai->-r requirements.txt (line 1)) (2024.2.2)\n",
            "Requirement already satisfied: cffi>=1.12 in /usr/local/lib/python3.10/dist-packages (from cryptography>=3.3->paramiko>=2.4->fabric->colossalai->-r requirements.txt (line 1)) (1.16.0)\n",
            "Requirement already satisfied: pycparser in /usr/local/lib/python3.10/dist-packages (from cffi>=1.12->cryptography>=3.3->paramiko>=2.4->fabric->colossalai->-r requirements.txt (line 1)) (2.22)\n",
            "Building wheels for collected packages: colossalai, contexttimer\n",
            "  Building wheel for colossalai (setup.py) ... \u001b[?25l\u001b[?25hdone\n",
            "  Created wheel for colossalai: filename=colossalai-0.3.6-py3-none-any.whl size=1389734 sha256=4d07293a2499aff46d26699c2aacef9d8e803d42e6226a816cddc32567d841eb\n",
            "  Stored in directory: /root/.cache/pip/wheels/4c/52/8e/8ff9fb0a6ec328844d9344eb1e1adc29f3d05886adb2a3551a\n",
            "  Building wheel for contexttimer (setup.py) ... \u001b[?25l\u001b[?25hdone\n",
            "  Created wheel for contexttimer: filename=contexttimer-0.3.3-py3-none-any.whl size=5804 sha256=7a93452a58ba84806ea261a500d23f314f25ae41a89a18d20eac734fb6c5ac67\n",
            "  Stored in directory: /root/.cache/pip/wheels/72/1c/da/cfd97201d88ccce214427fa84a5caeb91fef7c5a1b4c4312b4\n",
            "Successfully built colossalai contexttimer\n",
            "Installing collected packages: ninja, distlib, contexttimer, virtualenv, nvidia-nvtx-cu12, nvidia-nvjitlink-cu12, nvidia-nccl-cu12, nvidia-curand-cu12, nvidia-cufft-cu12, nvidia-cuda-runtime-cu12, nvidia-cuda-nvrtc-cu12, nvidia-cuda-cupti-cu12, nvidia-cublas-cu12, nodeenv, invoke, identify, einops, deprecated, decorator, cfgv, bcrypt, pynacl, pre-commit, nvidia-cusparse-cu12, nvidia-cudnn-cu12, paramiko, nvidia-cusolver-cu12, ray, fabric, colossalai\n",
            "  Attempting uninstall: decorator\n",
            "    Found existing installation: decorator 4.4.2\n",
            "    Uninstalling decorator-4.4.2:\n",
            "      Successfully uninstalled decorator-4.4.2\n",
            "\u001b[31mERROR: pip's dependency resolver does not currently take into account all the packages that are installed. This behaviour is the source of the following dependency conflicts.\n",
            "ipython 7.34.0 requires jedi>=0.16, which is not installed.\n",
            "moviepy 1.0.3 requires decorator<5.0,>=4.0.2, but you have decorator 5.1.1 which is incompatible.\u001b[0m\u001b[31m\n",
            "\u001b[0mSuccessfully installed bcrypt-4.1.2 cfgv-3.4.0 colossalai-0.3.6 contexttimer-0.3.3 decorator-5.1.1 deprecated-1.2.14 distlib-0.3.8 einops-0.7.0 fabric-3.2.2 identify-2.5.35 invoke-2.2.0 ninja-1.11.1.1 nodeenv-1.8.0 nvidia-cublas-cu12-12.1.3.1 nvidia-cuda-cupti-cu12-12.1.105 nvidia-cuda-nvrtc-cu12-12.1.105 nvidia-cuda-runtime-cu12-12.1.105 nvidia-cudnn-cu12-8.9.2.26 nvidia-cufft-cu12-11.0.2.54 nvidia-curand-cu12-10.3.2.106 nvidia-cusolver-cu12-11.4.5.107 nvidia-cusparse-cu12-12.1.0.106 nvidia-nccl-cu12-2.19.3 nvidia-nvjitlink-cu12-12.4.127 nvidia-nvtx-cu12-12.1.105 paramiko-3.4.0 pre-commit-3.7.0 pynacl-1.5.0 ray-2.10.0 virtualenv-20.25.1\n"
          ]
        },
        {
          "output_type": "display_data",
          "data": {
            "application/vnd.colab-display-data+json": {
              "pip_warning": {
                "packages": [
                  "decorator"
                ]
              },
              "id": "2e7a6ce02214471ca7125da41a9dba57"
            }
          },
          "metadata": {}
        }
      ]
    },
    {
      "cell_type": "code",
      "execution_count": null,
      "metadata": {
        "colab": {
          "base_uri": "https://localhost:8080/"
        },
        "id": "evlvyd9v-eHa",
        "outputId": "b77a6f6d-31d7-446b-e039-70b07d56d2e8"
      },
      "outputs": [
        {
          "output_type": "stream",
          "name": "stdout",
          "text": [
            "Fri Apr 12 07:56:25 2024       \n",
            "+---------------------------------------------------------------------------------------+\n",
            "| NVIDIA-SMI 535.104.05             Driver Version: 535.104.05   CUDA Version: 12.2     |\n",
            "|-----------------------------------------+----------------------+----------------------+\n",
            "| GPU  Name                 Persistence-M | Bus-Id        Disp.A | Volatile Uncorr. ECC |\n",
            "| Fan  Temp   Perf          Pwr:Usage/Cap |         Memory-Usage | GPU-Util  Compute M. |\n",
            "|                                         |                      |               MIG M. |\n",
            "|=========================================+======================+======================|\n",
            "|   0  Tesla T4                       Off | 00000000:00:04.0 Off |                    0 |\n",
            "| N/A   46C    P8              11W /  70W |      0MiB / 15360MiB |      0%      Default |\n",
            "|                                         |                      |                  N/A |\n",
            "+-----------------------------------------+----------------------+----------------------+\n",
            "                                                                                         \n",
            "+---------------------------------------------------------------------------------------+\n",
            "| Processes:                                                                            |\n",
            "|  GPU   GI   CI        PID   Type   Process name                            GPU Memory |\n",
            "|        ID   ID                                                             Usage      |\n",
            "|=======================================================================================|\n",
            "|  No running processes found                                                           |\n",
            "+---------------------------------------------------------------------------------------+\n"
          ]
        }
      ],
      "source": [
        "!nvidia-smi"
      ]
    },
    {
      "cell_type": "code",
      "execution_count": null,
      "metadata": {
        "colab": {
          "base_uri": "https://localhost:8080/"
        },
        "id": "TJC4F624FpXF",
        "outputId": "9934cef9-db45-414f-a6cf-b52407580c74"
      },
      "outputs": [
        {
          "output_type": "stream",
          "name": "stdout",
          "text": [
            "Requirement already satisfied: datasets in /usr/local/lib/python3.10/dist-packages (2.18.0)\n",
            "Requirement already satisfied: accelerate in /usr/local/lib/python3.10/dist-packages (0.29.2)\n",
            "Requirement already satisfied: colossalai in /usr/local/lib/python3.10/dist-packages (0.3.6)\n",
            "Requirement already satisfied: locust in /usr/local/lib/python3.10/dist-packages (2.24.1)\n",
            "Requirement already satisfied: filelock in /usr/local/lib/python3.10/dist-packages (from datasets) (3.13.4)\n",
            "Requirement already satisfied: numpy>=1.17 in /usr/local/lib/python3.10/dist-packages (from datasets) (1.25.2)\n",
            "Requirement already satisfied: pyarrow>=12.0.0 in /usr/local/lib/python3.10/dist-packages (from datasets) (14.0.2)\n",
            "Requirement already satisfied: pyarrow-hotfix in /usr/local/lib/python3.10/dist-packages (from datasets) (0.6)\n",
            "Requirement already satisfied: dill<0.3.9,>=0.3.0 in /usr/local/lib/python3.10/dist-packages (from datasets) (0.3.8)\n",
            "Requirement already satisfied: pandas in /usr/local/lib/python3.10/dist-packages (from datasets) (2.0.3)\n",
            "Requirement already satisfied: requests>=2.19.0 in /usr/local/lib/python3.10/dist-packages (from datasets) (2.31.0)\n",
            "Requirement already satisfied: tqdm>=4.62.1 in /usr/local/lib/python3.10/dist-packages (from datasets) (4.66.2)\n",
            "Requirement already satisfied: xxhash in /usr/local/lib/python3.10/dist-packages (from datasets) (3.4.1)\n",
            "Requirement already satisfied: multiprocess in /usr/local/lib/python3.10/dist-packages (from datasets) (0.70.16)\n",
            "Requirement already satisfied: fsspec[http]<=2024.2.0,>=2023.1.0 in /usr/local/lib/python3.10/dist-packages (from datasets) (2023.6.0)\n",
            "Requirement already satisfied: aiohttp in /usr/local/lib/python3.10/dist-packages (from datasets) (3.9.3)\n",
            "Requirement already satisfied: huggingface-hub>=0.19.4 in /usr/local/lib/python3.10/dist-packages (from datasets) (0.20.3)\n",
            "Requirement already satisfied: packaging in /usr/local/lib/python3.10/dist-packages (from datasets) (24.0)\n",
            "Requirement already satisfied: pyyaml>=5.1 in /usr/local/lib/python3.10/dist-packages (from datasets) (6.0.1)\n",
            "Requirement already satisfied: psutil in /usr/local/lib/python3.10/dist-packages (from accelerate) (5.9.5)\n",
            "Requirement already satisfied: torch>=1.10.0 in /usr/local/lib/python3.10/dist-packages (from accelerate) (2.2.1+cu121)\n",
            "Requirement already satisfied: safetensors>=0.3.1 in /usr/local/lib/python3.10/dist-packages (from accelerate) (0.4.2)\n",
            "Requirement already satisfied: pre-commit in /usr/local/lib/python3.10/dist-packages (from colossalai) (3.7.0)\n",
            "Requirement already satisfied: rich in /usr/local/lib/python3.10/dist-packages (from colossalai) (13.7.1)\n",
            "Requirement already satisfied: click in /usr/local/lib/python3.10/dist-packages (from colossalai) (8.1.7)\n",
            "Requirement already satisfied: fabric in /usr/local/lib/python3.10/dist-packages (from colossalai) (3.2.2)\n",
            "Requirement already satisfied: contexttimer in /usr/local/lib/python3.10/dist-packages (from colossalai) (0.3.3)\n",
            "Requirement already satisfied: ninja in /usr/local/lib/python3.10/dist-packages (from colossalai) (1.11.1.1)\n",
            "Requirement already satisfied: einops in /usr/local/lib/python3.10/dist-packages (from colossalai) (0.7.0)\n",
            "Requirement already satisfied: pydantic in /usr/local/lib/python3.10/dist-packages (from colossalai) (2.6.4)\n",
            "Requirement already satisfied: ray in /usr/local/lib/python3.10/dist-packages (from colossalai) (2.10.0)\n",
            "Requirement already satisfied: sentencepiece in /usr/local/lib/python3.10/dist-packages (from colossalai) (0.1.99)\n",
            "Requirement already satisfied: google in /usr/local/lib/python3.10/dist-packages (from colossalai) (2.0.3)\n",
            "Requirement already satisfied: protobuf in /usr/local/lib/python3.10/dist-packages (from colossalai) (3.20.3)\n",
            "Requirement already satisfied: gevent>=22.10.2 in /usr/local/lib/python3.10/dist-packages (from locust) (24.2.1)\n",
            "Requirement already satisfied: flask>=2.0.0 in /usr/local/lib/python3.10/dist-packages (from locust) (2.2.5)\n",
            "Requirement already satisfied: Werkzeug>=2.0.0 in /usr/local/lib/python3.10/dist-packages (from locust) (3.0.2)\n",
            "Requirement already satisfied: msgpack>=1.0.0 in /usr/local/lib/python3.10/dist-packages (from locust) (1.0.8)\n",
            "Requirement already satisfied: pyzmq>=25.0.0 in /usr/local/lib/python3.10/dist-packages (from locust) (25.1.2)\n",
            "Requirement already satisfied: geventhttpclient>=2.0.11 in /usr/local/lib/python3.10/dist-packages (from locust) (2.1.1)\n",
            "Requirement already satisfied: ConfigArgParse>=1.5.5 in /usr/local/lib/python3.10/dist-packages (from locust) (1.7)\n",
            "Requirement already satisfied: Flask-Login>=0.6.3 in /usr/local/lib/python3.10/dist-packages (from locust) (0.6.3)\n",
            "Requirement already satisfied: Flask-Cors>=3.0.10 in /usr/local/lib/python3.10/dist-packages (from locust) (4.0.0)\n",
            "Requirement already satisfied: roundrobin>=0.0.2 in /usr/local/lib/python3.10/dist-packages (from locust) (0.0.4)\n",
            "Requirement already satisfied: tomli>=1.1.0 in /usr/local/lib/python3.10/dist-packages (from locust) (2.0.1)\n",
            "Requirement already satisfied: Jinja2>=3.0 in /usr/local/lib/python3.10/dist-packages (from flask>=2.0.0->locust) (3.1.3)\n",
            "Requirement already satisfied: itsdangerous>=2.0 in /usr/local/lib/python3.10/dist-packages (from flask>=2.0.0->locust) (2.1.2)\n",
            "Requirement already satisfied: aiosignal>=1.1.2 in /usr/local/lib/python3.10/dist-packages (from aiohttp->datasets) (1.3.1)\n",
            "Requirement already satisfied: attrs>=17.3.0 in /usr/local/lib/python3.10/dist-packages (from aiohttp->datasets) (23.2.0)\n",
            "Requirement already satisfied: frozenlist>=1.1.1 in /usr/local/lib/python3.10/dist-packages (from aiohttp->datasets) (1.4.1)\n",
            "Requirement already satisfied: multidict<7.0,>=4.5 in /usr/local/lib/python3.10/dist-packages (from aiohttp->datasets) (6.0.5)\n",
            "Requirement already satisfied: yarl<2.0,>=1.0 in /usr/local/lib/python3.10/dist-packages (from aiohttp->datasets) (1.9.4)\n",
            "Requirement already satisfied: async-timeout<5.0,>=4.0 in /usr/local/lib/python3.10/dist-packages (from aiohttp->datasets) (4.0.3)\n",
            "Requirement already satisfied: zope.event in /usr/local/lib/python3.10/dist-packages (from gevent>=22.10.2->locust) (5.0)\n",
            "Requirement already satisfied: zope.interface in /usr/local/lib/python3.10/dist-packages (from gevent>=22.10.2->locust) (6.2)\n",
            "Requirement already satisfied: greenlet>=2.0.0 in /usr/local/lib/python3.10/dist-packages (from gevent>=22.10.2->locust) (3.0.3)\n",
            "Requirement already satisfied: certifi in /usr/local/lib/python3.10/dist-packages (from geventhttpclient>=2.0.11->locust) (2024.2.2)\n",
            "Requirement already satisfied: brotli in /usr/local/lib/python3.10/dist-packages (from geventhttpclient>=2.0.11->locust) (1.1.0)\n",
            "Requirement already satisfied: urllib3 in /usr/local/lib/python3.10/dist-packages (from geventhttpclient>=2.0.11->locust) (2.0.7)\n",
            "Requirement already satisfied: typing-extensions>=3.7.4.3 in /usr/local/lib/python3.10/dist-packages (from huggingface-hub>=0.19.4->datasets) (4.11.0)\n",
            "Requirement already satisfied: charset-normalizer<4,>=2 in /usr/local/lib/python3.10/dist-packages (from requests>=2.19.0->datasets) (3.3.2)\n",
            "Requirement already satisfied: idna<4,>=2.5 in /usr/local/lib/python3.10/dist-packages (from requests>=2.19.0->datasets) (3.6)\n",
            "Requirement already satisfied: sympy in /usr/local/lib/python3.10/dist-packages (from torch>=1.10.0->accelerate) (1.12)\n",
            "Requirement already satisfied: networkx in /usr/local/lib/python3.10/dist-packages (from torch>=1.10.0->accelerate) (3.3)\n",
            "Requirement already satisfied: nvidia-cuda-nvrtc-cu12==12.1.105 in /usr/local/lib/python3.10/dist-packages (from torch>=1.10.0->accelerate) (12.1.105)\n",
            "Requirement already satisfied: nvidia-cuda-runtime-cu12==12.1.105 in /usr/local/lib/python3.10/dist-packages (from torch>=1.10.0->accelerate) (12.1.105)\n",
            "Requirement already satisfied: nvidia-cuda-cupti-cu12==12.1.105 in /usr/local/lib/python3.10/dist-packages (from torch>=1.10.0->accelerate) (12.1.105)\n",
            "Requirement already satisfied: nvidia-cudnn-cu12==8.9.2.26 in /usr/local/lib/python3.10/dist-packages (from torch>=1.10.0->accelerate) (8.9.2.26)\n",
            "Requirement already satisfied: nvidia-cublas-cu12==12.1.3.1 in /usr/local/lib/python3.10/dist-packages (from torch>=1.10.0->accelerate) (12.1.3.1)\n",
            "Requirement already satisfied: nvidia-cufft-cu12==11.0.2.54 in /usr/local/lib/python3.10/dist-packages (from torch>=1.10.0->accelerate) (11.0.2.54)\n",
            "Requirement already satisfied: nvidia-curand-cu12==10.3.2.106 in /usr/local/lib/python3.10/dist-packages (from torch>=1.10.0->accelerate) (10.3.2.106)\n",
            "Requirement already satisfied: nvidia-cusolver-cu12==11.4.5.107 in /usr/local/lib/python3.10/dist-packages (from torch>=1.10.0->accelerate) (11.4.5.107)\n",
            "Requirement already satisfied: nvidia-cusparse-cu12==12.1.0.106 in /usr/local/lib/python3.10/dist-packages (from torch>=1.10.0->accelerate) (12.1.0.106)\n",
            "Requirement already satisfied: nvidia-nccl-cu12==2.19.3 in /usr/local/lib/python3.10/dist-packages (from torch>=1.10.0->accelerate) (2.19.3)\n",
            "Requirement already satisfied: nvidia-nvtx-cu12==12.1.105 in /usr/local/lib/python3.10/dist-packages (from torch>=1.10.0->accelerate) (12.1.105)\n",
            "Requirement already satisfied: triton==2.2.0 in /usr/local/lib/python3.10/dist-packages (from torch>=1.10.0->accelerate) (2.2.0)\n",
            "Requirement already satisfied: nvidia-nvjitlink-cu12 in /usr/local/lib/python3.10/dist-packages (from nvidia-cusolver-cu12==11.4.5.107->torch>=1.10.0->accelerate) (12.4.127)\n",
            "Requirement already satisfied: MarkupSafe>=2.1.1 in /usr/local/lib/python3.10/dist-packages (from Werkzeug>=2.0.0->locust) (2.1.5)\n",
            "Requirement already satisfied: invoke>=2.0 in /usr/local/lib/python3.10/dist-packages (from fabric->colossalai) (2.2.0)\n",
            "Requirement already satisfied: paramiko>=2.4 in /usr/local/lib/python3.10/dist-packages (from fabric->colossalai) (3.4.0)\n",
            "Requirement already satisfied: decorator>=5 in /usr/local/lib/python3.10/dist-packages (from fabric->colossalai) (5.1.1)\n",
            "Requirement already satisfied: deprecated>=1.2 in /usr/local/lib/python3.10/dist-packages (from fabric->colossalai) (1.2.14)\n",
            "Requirement already satisfied: beautifulsoup4 in /usr/local/lib/python3.10/dist-packages (from google->colossalai) (4.12.3)\n",
            "Requirement already satisfied: python-dateutil>=2.8.2 in /usr/local/lib/python3.10/dist-packages (from pandas->datasets) (2.8.2)\n",
            "Requirement already satisfied: pytz>=2020.1 in /usr/local/lib/python3.10/dist-packages (from pandas->datasets) (2023.4)\n",
            "Requirement already satisfied: tzdata>=2022.1 in /usr/local/lib/python3.10/dist-packages (from pandas->datasets) (2024.1)\n",
            "Requirement already satisfied: cfgv>=2.0.0 in /usr/local/lib/python3.10/dist-packages (from pre-commit->colossalai) (3.4.0)\n",
            "Requirement already satisfied: identify>=1.0.0 in /usr/local/lib/python3.10/dist-packages (from pre-commit->colossalai) (2.5.35)\n",
            "Requirement already satisfied: nodeenv>=0.11.1 in /usr/local/lib/python3.10/dist-packages (from pre-commit->colossalai) (1.8.0)\n",
            "Requirement already satisfied: virtualenv>=20.10.0 in /usr/local/lib/python3.10/dist-packages (from pre-commit->colossalai) (20.25.1)\n",
            "Requirement already satisfied: annotated-types>=0.4.0 in /usr/local/lib/python3.10/dist-packages (from pydantic->colossalai) (0.6.0)\n",
            "Requirement already satisfied: pydantic-core==2.16.3 in /usr/local/lib/python3.10/dist-packages (from pydantic->colossalai) (2.16.3)\n",
            "Requirement already satisfied: jsonschema in /usr/local/lib/python3.10/dist-packages (from ray->colossalai) (4.19.2)\n",
            "Requirement already satisfied: markdown-it-py>=2.2.0 in /usr/local/lib/python3.10/dist-packages (from rich->colossalai) (3.0.0)\n",
            "Requirement already satisfied: pygments<3.0.0,>=2.13.0 in /usr/local/lib/python3.10/dist-packages (from rich->colossalai) (2.16.1)\n",
            "Requirement already satisfied: wrapt<2,>=1.10 in /usr/local/lib/python3.10/dist-packages (from deprecated>=1.2->fabric->colossalai) (1.14.1)\n",
            "Requirement already satisfied: mdurl~=0.1 in /usr/local/lib/python3.10/dist-packages (from markdown-it-py>=2.2.0->rich->colossalai) (0.1.2)\n",
            "Requirement already satisfied: setuptools in /usr/local/lib/python3.10/dist-packages (from nodeenv>=0.11.1->pre-commit->colossalai) (67.7.2)\n",
            "Requirement already satisfied: bcrypt>=3.2 in /usr/local/lib/python3.10/dist-packages (from paramiko>=2.4->fabric->colossalai) (4.1.2)\n",
            "Requirement already satisfied: cryptography>=3.3 in /usr/local/lib/python3.10/dist-packages (from paramiko>=2.4->fabric->colossalai) (42.0.5)\n",
            "Requirement already satisfied: pynacl>=1.5 in /usr/local/lib/python3.10/dist-packages (from paramiko>=2.4->fabric->colossalai) (1.5.0)\n",
            "Requirement already satisfied: six>=1.5 in /usr/local/lib/python3.10/dist-packages (from python-dateutil>=2.8.2->pandas->datasets) (1.16.0)\n",
            "Requirement already satisfied: distlib<1,>=0.3.7 in /usr/local/lib/python3.10/dist-packages (from virtualenv>=20.10.0->pre-commit->colossalai) (0.3.8)\n",
            "Requirement already satisfied: platformdirs<5,>=3.9.1 in /usr/local/lib/python3.10/dist-packages (from virtualenv>=20.10.0->pre-commit->colossalai) (4.2.0)\n",
            "Requirement already satisfied: soupsieve>1.2 in /usr/local/lib/python3.10/dist-packages (from beautifulsoup4->google->colossalai) (2.5)\n",
            "Requirement already satisfied: jsonschema-specifications>=2023.03.6 in /usr/local/lib/python3.10/dist-packages (from jsonschema->ray->colossalai) (2023.12.1)\n",
            "Requirement already satisfied: referencing>=0.28.4 in /usr/local/lib/python3.10/dist-packages (from jsonschema->ray->colossalai) (0.34.0)\n",
            "Requirement already satisfied: rpds-py>=0.7.1 in /usr/local/lib/python3.10/dist-packages (from jsonschema->ray->colossalai) (0.18.0)\n",
            "Requirement already satisfied: mpmath>=0.19 in /usr/local/lib/python3.10/dist-packages (from sympy->torch>=1.10.0->accelerate) (1.3.0)\n",
            "Requirement already satisfied: cffi>=1.12 in /usr/local/lib/python3.10/dist-packages (from cryptography>=3.3->paramiko>=2.4->fabric->colossalai) (1.16.0)\n",
            "Requirement already satisfied: pycparser in /usr/local/lib/python3.10/dist-packages (from cffi>=1.12->cryptography>=3.3->paramiko>=2.4->fabric->colossalai) (2.22)\n"
          ]
        }
      ],
      "source": [
        "!pip install datasets accelerate colossalai locust"
      ]
    },
    {
      "cell_type": "code",
      "execution_count": null,
      "metadata": {
        "colab": {
          "base_uri": "https://localhost:8080/",
          "height": 35
        },
        "id": "Su85ELr7bPeW",
        "outputId": "b06e2b64-4686-4a7e-f9e3-7e43de4279f1"
      },
      "outputs": [
        {
          "output_type": "execute_result",
          "data": {
            "text/plain": [
              "'2.2.1+cu121'"
            ],
            "application/vnd.google.colaboratory.intrinsic+json": {
              "type": "string"
            }
          },
          "metadata": {},
          "execution_count": 12
        }
      ],
      "source": [
        "torch.__version__\n"
      ]
    },
    {
      "cell_type": "code",
      "execution_count": null,
      "metadata": {
        "colab": {
          "base_uri": "https://localhost:8080/"
        },
        "id": "o1NIMfQ5jAJt",
        "outputId": "26452df8-9748-464b-eac5-110978d3f9b5"
      },
      "outputs": [
        {
          "output_type": "stream",
          "name": "stdout",
          "text": [
            "/content/drive/MyDrive/Colab Notebooks\n"
          ]
        }
      ],
      "source": [
        "!pwd"
      ]
    },
    {
      "cell_type": "code",
      "execution_count": null,
      "metadata": {
        "id": "N9Bug9C5dZIA",
        "colab": {
          "base_uri": "https://localhost:8080/"
        },
        "outputId": "cbe8067e-4007-4368-c6b6-be3ca8015cc7"
      },
      "outputs": [
        {
          "output_type": "stream",
          "name": "stdout",
          "text": [
            "/usr/local/lib/python3.10/dist-packages/colossalai/pipeline/schedule/_utils.py:19: UserWarning: torch.utils._pytree._register_pytree_node is deprecated. Please use torch.utils._pytree.register_pytree_node instead.\n",
            "  _register_pytree_node(OrderedDict, _odict_flatten, _odict_unflatten)\n",
            "/usr/local/lib/python3.10/dist-packages/torch/utils/_pytree.py:254: UserWarning: <class 'collections.OrderedDict'> is already registered as pytree node. Overwriting the previous registration.\n",
            "  warnings.warn(\n",
            "/usr/local/lib/python3.10/dist-packages/colossalai/shardformer/layer/normalization.py:45: UserWarning: Please install apex from source (https://github.com/NVIDIA/apex) to use the fused layernorm kernel\n",
            "  warnings.warn(\"Please install apex from source (https://github.com/NVIDIA/apex) to use the fused layernorm kernel\")\n",
            "/usr/local/lib/python3.10/dist-packages/colossalai/initialize.py:48: UserWarning: `config` is deprecated and will be removed soon.\n",
            "  warnings.warn(\"`config` is deprecated and will be removed soon.\")\n",
            "[04/12/24 08:25:15] INFO     colossalai - colossalai - INFO:                                        \n",
            "                             /usr/local/lib/python3.10/dist-packages/colossalai/initialize.py:67    \n",
            "                             launch                                                                 \n",
            "                    INFO     colossalai - colossalai - INFO: Distributed environment is initialized,\n",
            "                             world size: 1                                                          \n",
            "Downloading https://www.cs.toronto.edu/~kriz/cifar-100-python.tar.gz to ./data/cifar-100-python.tar.gz\n",
            "100%|██████████| 169001437/169001437 [00:12<00:00, 13000905.48it/s]\n",
            "Extracting ./data/cifar-100-python.tar.gz to ./data\n",
            "Files already downloaded and verified\n",
            "/usr/local/lib/python3.10/dist-packages/colossalai/kernel/extensions/utils.py:96: UserWarning: [extension] The CUDA version on the system (12.2) does not match with the version (12.1) torch was compiled with. The mismatch is found in the minor version. As the APIs are compatible, we will allow compilation to proceed. If you encounter any issue when using the built kernel, please try to build it again with fully matched CUDA versions\n",
            "  warnings.warn(\n",
            "[extension] Compiling the JIT cpu_adam_x86 kernel during runtime now\n",
            "[extension] Time taken to compile cpu_adam_x86 op: 40.7567253112793 seconds\n",
            "/usr/local/lib/python3.10/dist-packages/colossalai/kernel/extensions/utils.py:96: UserWarning: [extension] The CUDA version on the system (12.2) does not match with the version (12.1) torch was compiled with. The mismatch is found in the minor version. As the APIs are compatible, we will allow compilation to proceed. If you encounter any issue when using the built kernel, please try to build it again with fully matched CUDA versions\n",
            "  warnings.warn(\n",
            "[extension] Compiling the JIT fused_optim_cuda kernel during runtime now\n",
            "[extension] Time taken to compile fused_optim_cuda op: 257.02827429771423 seconds\n",
            "/usr/local/lib/python3.10/dist-packages/colossalai/nn/optimizer/hybrid_adam.py:90: UserWarning: The torch.cuda.*DtypeTensor constructors are no longer recommended. It's best to use methods such as torch.tensor(data, dtype=*, device='cuda') to create tensors. (Triggered internally at ../torch/csrc/tensor/python_tensor.cpp:83.)\n",
            "  self._dummy_overflow_buf = torch.cuda.IntTensor([0])\n",
            "Epoch [1/80]:   0%|          | 0/250 [00:00<?, ?it/s]/usr/local/lib/python3.10/dist-packages/colossalai/nn/optimizer/nvme_optimizer.py:55: UserWarning: TypedStorage is deprecated. It will be removed in the future and UntypedStorage will be the only storage class. This should only matter to you if you are using storages directly.  To access UntypedStorage directly, use tensor.untyped_storage() instead of tensor.storage()\n",
            "  numel += p.storage().size()\n",
            "Epoch [1/80]: 100%|██████████| 250/250 [00:44<00:00,  5.64it/s, loss=3.76]\n",
            "Epoch [2/80]: 100%|██████████| 250/250 [00:42<00:00,  5.83it/s, loss=4.37]\n",
            "Epoch [3/80]: 100%|██████████| 250/250 [00:42<00:00,  5.84it/s, loss=3.79]\n",
            "Epoch [4/80]: 100%|██████████| 250/250 [00:42<00:00,  5.83it/s, loss=3.46]\n",
            "Epoch [5/80]: 100%|██████████| 250/250 [00:43<00:00,  5.77it/s, loss=3.4]\n",
            "Epoch [6/80]: 100%|██████████| 250/250 [00:43<00:00,  5.73it/s, loss=3.26]\n",
            "Epoch [7/80]: 100%|██████████| 250/250 [00:42<00:00,  5.84it/s, loss=3.04]\n",
            "Epoch [8/80]: 100%|██████████| 250/250 [00:42<00:00,  5.87it/s, loss=3.28]\n",
            "Epoch [9/80]: 100%|██████████| 250/250 [00:42<00:00,  5.83it/s, loss=3.14]\n",
            "Epoch [10/80]: 100%|██████████| 250/250 [00:42<00:00,  5.82it/s, loss=3.06]\n",
            "Epoch [11/80]: 100%|██████████| 250/250 [00:43<00:00,  5.73it/s, loss=2.66]\n",
            "Epoch [12/80]: 100%|██████████| 250/250 [00:43<00:00,  5.77it/s, loss=2.72]\n",
            "Epoch [13/80]: 100%|██████████| 250/250 [00:42<00:00,  5.85it/s, loss=2.59]\n",
            "Epoch [14/80]: 100%|██████████| 250/250 [00:42<00:00,  5.83it/s, loss=2.67]\n",
            "Epoch [15/80]: 100%|██████████| 250/250 [00:42<00:00,  5.87it/s, loss=2.47]\n",
            "Epoch [16/80]: 100%|██████████| 250/250 [00:43<00:00,  5.71it/s, loss=2.52]\n",
            "Epoch [17/80]: 100%|██████████| 250/250 [00:42<00:00,  5.86it/s, loss=2.23]\n",
            "Epoch [18/80]: 100%|██████████| 250/250 [00:42<00:00,  5.85it/s, loss=2.13]\n",
            "Epoch [19/80]: 100%|██████████| 250/250 [00:42<00:00,  5.86it/s, loss=2.45]\n",
            "Epoch [20/80]: 100%|██████████| 250/250 [00:43<00:00,  5.79it/s, loss=2.06]\n",
            "Epoch [21/80]: 100%|██████████| 250/250 [00:43<00:00,  5.72it/s, loss=1.86]\n",
            "Epoch [22/80]: 100%|██████████| 250/250 [00:42<00:00,  5.86it/s, loss=1.78]\n",
            "Epoch [23/80]: 100%|██████████| 250/250 [00:42<00:00,  5.87it/s, loss=1.63]\n",
            "Epoch [24/80]: 100%|██████████| 250/250 [00:43<00:00,  5.80it/s, loss=1.48]\n",
            "Epoch [25/80]: 100%|██████████| 250/250 [00:42<00:00,  5.83it/s, loss=1.56]\n",
            "Epoch [26/80]: 100%|██████████| 250/250 [00:43<00:00,  5.73it/s, loss=1.28]\n",
            "Epoch [27/80]: 100%|██████████| 250/250 [00:42<00:00,  5.85it/s, loss=1.1]\n",
            "Epoch [28/80]: 100%|██████████| 250/250 [00:43<00:00,  5.79it/s, loss=0.926]\n",
            "Epoch [29/80]: 100%|██████████| 250/250 [00:42<00:00,  5.82it/s, loss=0.654]\n",
            "Epoch [30/80]: 100%|██████████| 250/250 [00:42<00:00,  5.86it/s, loss=0.523]\n",
            "Epoch [31/80]: 100%|██████████| 250/250 [00:43<00:00,  5.70it/s, loss=0.381]\n",
            "Epoch [32/80]: 100%|██████████| 250/250 [00:43<00:00,  5.77it/s, loss=0.539]\n",
            "Epoch [33/80]: 100%|██████████| 250/250 [00:42<00:00,  5.87it/s, loss=0.239]\n",
            "Epoch [34/80]: 100%|██████████| 250/250 [00:42<00:00,  5.84it/s, loss=0.311]\n",
            "Epoch [35/80]: 100%|██████████| 250/250 [00:42<00:00,  5.82it/s, loss=0.308]\n",
            "Epoch [36/80]: 100%|██████████| 250/250 [00:44<00:00,  5.67it/s, loss=0.301]\n",
            "Epoch [37/80]: 100%|██████████| 250/250 [00:42<00:00,  5.83it/s, loss=0.306]\n",
            "Epoch [38/80]: 100%|██████████| 250/250 [00:42<00:00,  5.83it/s, loss=0.28]\n",
            "Epoch [39/80]: 100%|██████████| 250/250 [00:42<00:00,  5.82it/s, loss=0.25]\n",
            "Epoch [40/80]: 100%|██████████| 250/250 [00:43<00:00,  5.79it/s, loss=0.197]\n",
            "Epoch [41/80]: 100%|██████████| 250/250 [00:44<00:00,  5.67it/s, loss=0.113]\n",
            "Epoch [42/80]: 100%|██████████| 250/250 [00:43<00:00,  5.81it/s, loss=0.129]\n",
            "Epoch [43/80]: 100%|██████████| 250/250 [00:43<00:00,  5.81it/s, loss=0.0836]\n",
            "Epoch [44/80]: 100%|██████████| 250/250 [00:43<00:00,  5.72it/s, loss=0.115]\n",
            "Epoch [45/80]: 100%|██████████| 250/250 [00:43<00:00,  5.81it/s, loss=0.0691]\n",
            "Epoch [46/80]: 100%|██████████| 250/250 [00:43<00:00,  5.72it/s, loss=0.0603]\n",
            "Epoch [47/80]: 100%|██████████| 250/250 [00:43<00:00,  5.81it/s, loss=0.0551]\n",
            "Epoch [48/80]: 100%|██████████| 250/250 [00:43<00:00,  5.80it/s, loss=0.0652]\n",
            "Epoch [49/80]: 100%|██████████| 250/250 [00:42<00:00,  5.84it/s, loss=0.09]\n",
            "Epoch [50/80]: 100%|██████████| 250/250 [00:43<00:00,  5.79it/s, loss=0.0458]\n",
            "Epoch [51/80]: 100%|██████████| 250/250 [00:43<00:00,  5.69it/s, loss=0.0474]\n",
            "Epoch [52/80]: 100%|██████████| 250/250 [00:42<00:00,  5.84it/s, loss=0.0302]\n",
            "Epoch [53/80]: 100%|██████████| 250/250 [00:43<00:00,  5.79it/s, loss=0.0298]\n",
            "Epoch [54/80]: 100%|██████████| 250/250 [00:43<00:00,  5.81it/s, loss=0.0514]\n",
            "Epoch [55/80]: 100%|██████████| 250/250 [00:43<00:00,  5.80it/s, loss=0.0386]\n",
            "Epoch [56/80]: 100%|██████████| 250/250 [00:43<00:00,  5.72it/s, loss=0.0249]\n",
            "Epoch [57/80]: 100%|██████████| 250/250 [00:43<00:00,  5.74it/s, loss=0.0365]\n",
            "Epoch [58/80]: 100%|██████████| 250/250 [00:43<00:00,  5.81it/s, loss=0.0696]\n",
            "Epoch [59/80]: 100%|██████████| 250/250 [00:43<00:00,  5.81it/s, loss=0.0318]\n",
            "Epoch [60/80]: 100%|██████████| 250/250 [00:42<00:00,  5.83it/s, loss=0.0285]\n",
            "Epoch [61/80]: 100%|██████████| 250/250 [00:44<00:00,  5.68it/s, loss=0.0265]\n",
            "Epoch [62/80]: 100%|██████████| 250/250 [00:42<00:00,  5.84it/s, loss=0.0115]\n",
            "Epoch [63/80]: 100%|██████████| 250/250 [00:42<00:00,  5.83it/s, loss=0.0167]\n",
            "Epoch [64/80]: 100%|██████████| 250/250 [00:42<00:00,  5.83it/s, loss=0.0211]\n",
            "Epoch [65/80]: 100%|██████████| 250/250 [00:43<00:00,  5.79it/s, loss=0.0157]\n",
            "Epoch [66/80]: 100%|██████████| 250/250 [00:43<00:00,  5.69it/s, loss=0.0155]\n",
            "Epoch [67/80]: 100%|██████████| 250/250 [00:43<00:00,  5.77it/s, loss=0.0128]\n",
            "Epoch [68/80]: 100%|██████████| 250/250 [00:43<00:00,  5.81it/s, loss=0.0149]\n",
            "Epoch [69/80]: 100%|██████████| 250/250 [00:43<00:00,  5.80it/s, loss=0.028]\n",
            "Epoch [70/80]: 100%|██████████| 250/250 [00:43<00:00,  5.81it/s, loss=0.0149]\n",
            "Epoch [71/80]: 100%|██████████| 250/250 [00:44<00:00,  5.64it/s, loss=0.0111]\n",
            "Epoch [72/80]: 100%|██████████| 250/250 [00:42<00:00,  5.84it/s, loss=0.00988]\n",
            "Epoch [73/80]: 100%|██████████| 250/250 [00:42<00:00,  5.84it/s, loss=0.00872]\n",
            "Epoch [74/80]: 100%|██████████| 250/250 [00:43<00:00,  5.81it/s, loss=0.018]\n",
            "Epoch [75/80]: 100%|██████████| 250/250 [00:43<00:00,  5.77it/s, loss=0.00643]\n",
            "Epoch [76/80]: 100%|██████████| 250/250 [00:43<00:00,  5.72it/s, loss=0.0141]\n",
            "Epoch [77/80]: 100%|██████████| 250/250 [00:42<00:00,  5.82it/s, loss=0.0161]\n",
            "Epoch [78/80]: 100%|██████████| 250/250 [00:43<00:00,  5.77it/s, loss=0.00778]\n",
            "Epoch [79/80]: 100%|██████████| 250/250 [00:43<00:00,  5.76it/s, loss=0.00572]\n",
            "Epoch [80/80]: 100%|██████████| 250/250 [00:43<00:00,  5.79it/s, loss=0.00565]\n",
            "Accuracy of the model on the test images: 41.00 %\n",
            "\n",
            "====== Training on All Nodes =====\n",
            "127.0.0.1: success\n",
            "\n",
            "====== Stopping All Nodes =====\n",
            "127.0.0.1: finish\n"
          ]
        }
      ],
      "source": [
        "\n",
        "!colossalai run --nproc_per_node 1 train.py -c ./ckpt-fp32 # train with torch DDP with fp32\n"
      ]
    },
    {
      "cell_type": "code",
      "execution_count": null,
      "metadata": {
        "colab": {
          "base_uri": "https://localhost:8080/"
        },
        "id": "w1D_X1chfWGM",
        "outputId": "ccbb5777-b33e-4e4f-e8cd-e62ca5244e8a"
      },
      "outputs": [
        {
          "output_type": "stream",
          "name": "stdout",
          "text": [
            "Accuracy of the model on the test images: 41.0 %\n"
          ]
        }
      ],
      "source": [
        "# evaluate fp32 training\n",
        "!python eval.py -c ./ckpt-fp32 -e 80\n"
      ]
    },
    {
      "cell_type": "code",
      "source": [
        "# train with torch DDP with mixed precision training\n",
        "!colossalai run --nproc_per_node 1 train.py -c ./ckpt-fp16 -p torch_ddp_fp16\n"
      ],
      "metadata": {
        "colab": {
          "base_uri": "https://localhost:8080/"
        },
        "id": "oR8ZSOkhpL5l",
        "outputId": "5352aca5-9d5c-41c1-d47f-8d986d8df7d6"
      },
      "execution_count": null,
      "outputs": [
        {
          "output_type": "stream",
          "name": "stdout",
          "text": [
            "/usr/local/lib/python3.10/dist-packages/colossalai/pipeline/schedule/_utils.py:19: UserWarning: torch.utils._pytree._register_pytree_node is deprecated. Please use torch.utils._pytree.register_pytree_node instead.\n",
            "  _register_pytree_node(OrderedDict, _odict_flatten, _odict_unflatten)\n",
            "/usr/local/lib/python3.10/dist-packages/torch/utils/_pytree.py:254: UserWarning: <class 'collections.OrderedDict'> is already registered as pytree node. Overwriting the previous registration.\n",
            "  warnings.warn(\n",
            "/usr/local/lib/python3.10/dist-packages/colossalai/shardformer/layer/normalization.py:45: UserWarning: Please install apex from source (https://github.com/NVIDIA/apex) to use the fused layernorm kernel\n",
            "  warnings.warn(\"Please install apex from source (https://github.com/NVIDIA/apex) to use the fused layernorm kernel\")\n",
            "/usr/local/lib/python3.10/dist-packages/colossalai/initialize.py:48: UserWarning: `config` is deprecated and will be removed soon.\n",
            "  warnings.warn(\"`config` is deprecated and will be removed soon.\")\n",
            "[04/12/24 09:30:44] INFO     colossalai - colossalai - INFO:                                        \n",
            "                             /usr/local/lib/python3.10/dist-packages/colossalai/initialize.py:67    \n",
            "                             launch                                                                 \n",
            "                    INFO     colossalai - colossalai - INFO: Distributed environment is initialized,\n",
            "                             world size: 1                                                          \n",
            "Files already downloaded and verified\n",
            "Files already downloaded and verified\n",
            "/usr/local/lib/python3.10/dist-packages/colossalai/kernel/extensions/utils.py:96: UserWarning: [extension] The CUDA version on the system (12.2) does not match with the version (12.1) torch was compiled with. The mismatch is found in the minor version. As the APIs are compatible, we will allow compilation to proceed. If you encounter any issue when using the built kernel, please try to build it again with fully matched CUDA versions\n",
            "  warnings.warn(\n",
            "[extension] Compiling the JIT cpu_adam_x86 kernel during runtime now\n",
            "[extension] Time taken to compile cpu_adam_x86 op: 0.10031723976135254 seconds\n",
            "/usr/local/lib/python3.10/dist-packages/colossalai/kernel/extensions/utils.py:96: UserWarning: [extension] The CUDA version on the system (12.2) does not match with the version (12.1) torch was compiled with. The mismatch is found in the minor version. As the APIs are compatible, we will allow compilation to proceed. If you encounter any issue when using the built kernel, please try to build it again with fully matched CUDA versions\n",
            "  warnings.warn(\n",
            "[extension] Compiling the JIT fused_optim_cuda kernel during runtime now\n",
            "[extension] Time taken to compile fused_optim_cuda op: 0.11373686790466309 seconds\n",
            "/usr/local/lib/python3.10/dist-packages/colossalai/nn/optimizer/hybrid_adam.py:90: UserWarning: The torch.cuda.*DtypeTensor constructors are no longer recommended. It's best to use methods such as torch.tensor(data, dtype=*, device='cuda') to create tensors. (Triggered internally at ../torch/csrc/tensor/python_tensor.cpp:83.)\n",
            "  self._dummy_overflow_buf = torch.cuda.IntTensor([0])\n",
            "Epoch [1/80]:   2%|▏         | 5/250 [00:02<01:03,  3.87it/s, loss=4.89]/usr/local/lib/python3.10/dist-packages/colossalai/nn/optimizer/nvme_optimizer.py:55: UserWarning: TypedStorage is deprecated. It will be removed in the future and UntypedStorage will be the only storage class. This should only matter to you if you are using storages directly.  To access UntypedStorage directly, use tensor.untyped_storage() instead of tensor.storage()\n",
            "  numel += p.storage().size()\n",
            "Epoch [1/80]: 100%|██████████| 250/250 [00:29<00:00,  8.47it/s, loss=3.84]\n",
            "Epoch [2/80]: 100%|██████████| 250/250 [00:27<00:00,  9.06it/s, loss=4.57]\n",
            "Epoch [3/80]: 100%|██████████| 250/250 [00:27<00:00,  9.13it/s, loss=3.8]\n",
            "Epoch [4/80]: 100%|██████████| 250/250 [00:27<00:00,  9.04it/s, loss=3.43]\n",
            "Epoch [5/80]: 100%|██████████| 250/250 [00:27<00:00,  8.97it/s, loss=3.26]\n",
            "Epoch [6/80]: 100%|██████████| 250/250 [00:28<00:00,  8.69it/s, loss=3.04]\n",
            "Epoch [7/80]: 100%|██████████| 250/250 [00:27<00:00,  8.99it/s, loss=3.14]\n",
            "Epoch [8/80]: 100%|██████████| 250/250 [00:27<00:00,  9.08it/s, loss=2.88]\n",
            "Epoch [9/80]: 100%|██████████| 250/250 [00:27<00:00,  9.02it/s, loss=2.78]\n",
            "Epoch [10/80]: 100%|██████████| 250/250 [00:27<00:00,  8.95it/s, loss=2.85]\n",
            "Epoch [11/80]: 100%|██████████| 250/250 [00:28<00:00,  8.72it/s, loss=2.49]\n",
            "Epoch [12/80]: 100%|██████████| 250/250 [00:27<00:00,  9.13it/s, loss=2.39]\n",
            "Epoch [13/80]: 100%|██████████| 250/250 [00:27<00:00,  9.09it/s, loss=2.22]\n",
            "Epoch [14/80]: 100%|██████████| 250/250 [00:27<00:00,  9.13it/s, loss=2.16]\n",
            "Epoch [15/80]: 100%|██████████| 250/250 [00:27<00:00,  9.11it/s, loss=2.12]\n",
            "Epoch [16/80]: 100%|██████████| 250/250 [00:28<00:00,  8.75it/s, loss=1.9]\n",
            "Epoch [17/80]: 100%|██████████| 250/250 [00:27<00:00,  8.99it/s, loss=1.8]\n",
            "Epoch [18/80]: 100%|██████████| 250/250 [00:27<00:00,  8.94it/s, loss=1.69]\n",
            "Epoch [19/80]: 100%|██████████| 250/250 [00:27<00:00,  9.11it/s, loss=1.64]\n",
            "Epoch [20/80]: 100%|██████████| 250/250 [00:28<00:00,  8.93it/s, loss=1.46]\n",
            "Epoch [21/80]: 100%|██████████| 250/250 [00:28<00:00,  8.72it/s, loss=1.34]\n",
            "Epoch [22/80]: 100%|██████████| 250/250 [00:27<00:00,  9.05it/s, loss=1.18]\n",
            "Epoch [23/80]: 100%|██████████| 250/250 [00:27<00:00,  8.95it/s, loss=1.03]\n",
            "Epoch [24/80]: 100%|██████████| 250/250 [00:28<00:00,  8.80it/s, loss=0.877]\n",
            "Epoch [25/80]: 100%|██████████| 250/250 [00:28<00:00,  8.65it/s, loss=0.853]\n",
            "Epoch [26/80]: 100%|██████████| 250/250 [00:29<00:00,  8.50it/s, loss=0.814]\n",
            "Epoch [27/80]: 100%|██████████| 250/250 [00:27<00:00,  8.98it/s, loss=0.716]\n",
            "Epoch [28/80]: 100%|██████████| 250/250 [00:28<00:00,  8.89it/s, loss=0.641]\n",
            "Epoch [29/80]: 100%|██████████| 250/250 [00:28<00:00,  8.90it/s, loss=0.46]\n",
            "Epoch [30/80]: 100%|██████████| 250/250 [00:28<00:00,  8.93it/s, loss=0.479]\n",
            "Epoch [31/80]: 100%|██████████| 250/250 [00:29<00:00,  8.39it/s, loss=0.419]\n",
            "Epoch [32/80]: 100%|██████████| 250/250 [00:28<00:00,  8.90it/s, loss=0.351]\n",
            "Epoch [33/80]: 100%|██████████| 250/250 [00:28<00:00,  8.91it/s, loss=0.393]\n",
            "Epoch [34/80]: 100%|██████████| 250/250 [00:27<00:00,  8.99it/s, loss=0.339]\n",
            "Epoch [35/80]: 100%|██████████| 250/250 [00:27<00:00,  9.01it/s, loss=0.299]\n",
            "Epoch [36/80]: 100%|██████████| 250/250 [00:29<00:00,  8.56it/s, loss=0.288]\n",
            "Epoch [37/80]: 100%|██████████| 250/250 [00:28<00:00,  8.78it/s, loss=0.191]\n",
            "Epoch [38/80]: 100%|██████████| 250/250 [00:27<00:00,  8.93it/s, loss=0.213]\n",
            "Epoch [39/80]: 100%|██████████| 250/250 [00:27<00:00,  9.00it/s, loss=0.208]\n",
            "Epoch [40/80]: 100%|██████████| 250/250 [00:27<00:00,  8.93it/s, loss=0.206]\n",
            "Epoch [41/80]: 100%|██████████| 250/250 [00:29<00:00,  8.60it/s, loss=0.134]\n",
            "Epoch [42/80]: 100%|██████████| 250/250 [00:28<00:00,  8.91it/s, loss=0.163]\n",
            "Epoch [43/80]: 100%|██████████| 250/250 [00:27<00:00,  8.95it/s, loss=0.0726]\n",
            "Epoch [44/80]: 100%|██████████| 250/250 [00:28<00:00,  8.80it/s, loss=0.0652]\n",
            "Epoch [45/80]: 100%|██████████| 250/250 [00:28<00:00,  8.85it/s, loss=0.068]\n",
            "Epoch [46/80]: 100%|██████████| 250/250 [00:29<00:00,  8.59it/s, loss=0.085]\n",
            "Epoch [47/80]: 100%|██████████| 250/250 [00:27<00:00,  8.94it/s, loss=0.056]\n",
            "Epoch [48/80]: 100%|██████████| 250/250 [00:28<00:00,  8.92it/s, loss=0.0615]\n",
            "Epoch [49/80]: 100%|██████████| 250/250 [00:27<00:00,  8.96it/s, loss=0.0753]\n",
            "Epoch [50/80]: 100%|██████████| 250/250 [00:28<00:00,  8.84it/s, loss=0.0389]\n",
            "Epoch [51/80]: 100%|██████████| 250/250 [00:29<00:00,  8.55it/s, loss=0.0454]\n",
            "Epoch [52/80]: 100%|██████████| 250/250 [00:28<00:00,  8.84it/s, loss=0.0468]\n",
            "Epoch [53/80]: 100%|██████████| 250/250 [00:28<00:00,  8.77it/s, loss=0.0459]\n",
            "Epoch [54/80]: 100%|██████████| 250/250 [00:28<00:00,  8.89it/s, loss=0.0591]\n",
            "Epoch [55/80]: 100%|██████████| 250/250 [00:28<00:00,  8.81it/s, loss=0.0552]\n",
            "Epoch [56/80]: 100%|██████████| 250/250 [00:30<00:00,  8.27it/s, loss=0.0288]\n",
            "Epoch [57/80]: 100%|██████████| 250/250 [00:28<00:00,  8.74it/s, loss=0.0314]\n",
            "Epoch [58/80]: 100%|██████████| 250/250 [00:27<00:00,  8.94it/s, loss=0.055]\n",
            "Epoch [59/80]: 100%|██████████| 250/250 [00:27<00:00,  8.93it/s, loss=0.035]\n",
            "Epoch [60/80]: 100%|██████████| 250/250 [00:27<00:00,  8.97it/s, loss=0.0481]\n",
            "Epoch [61/80]: 100%|██████████| 250/250 [00:28<00:00,  8.65it/s, loss=0.0184]\n",
            "Epoch [62/80]: 100%|██████████| 250/250 [00:28<00:00,  8.84it/s, loss=0.0235]\n",
            "Epoch [63/80]: 100%|██████████| 250/250 [00:28<00:00,  8.78it/s, loss=0.0196]\n",
            "Epoch [64/80]: 100%|██████████| 250/250 [00:28<00:00,  8.90it/s, loss=0.0315]\n",
            "Epoch [65/80]: 100%|██████████| 250/250 [00:28<00:00,  8.90it/s, loss=0.0226]\n",
            "Epoch [66/80]: 100%|██████████| 250/250 [00:29<00:00,  8.61it/s, loss=0.0264]\n",
            "Epoch [67/80]: 100%|██████████| 250/250 [00:28<00:00,  8.85it/s, loss=0.015]\n",
            "Epoch [68/80]: 100%|██████████| 250/250 [00:28<00:00,  8.83it/s, loss=0.0227]\n",
            "Epoch [69/80]: 100%|██████████| 250/250 [00:28<00:00,  8.69it/s, loss=0.0196]\n",
            "Epoch [70/80]: 100%|██████████| 250/250 [00:28<00:00,  8.85it/s, loss=0.0258]\n",
            "Epoch [71/80]: 100%|██████████| 250/250 [00:29<00:00,  8.61it/s, loss=0.018]\n",
            "Epoch [72/80]: 100%|██████████| 250/250 [00:28<00:00,  8.88it/s, loss=0.015]\n",
            "Epoch [73/80]: 100%|██████████| 250/250 [00:27<00:00,  8.97it/s, loss=0.0235]\n",
            "Epoch [74/80]: 100%|██████████| 250/250 [00:28<00:00,  8.84it/s, loss=0.0144]\n",
            "Epoch [75/80]: 100%|██████████| 250/250 [00:28<00:00,  8.79it/s, loss=0.0211]\n",
            "Epoch [76/80]: 100%|██████████| 250/250 [00:29<00:00,  8.50it/s, loss=0.0155]\n",
            "Epoch [77/80]: 100%|██████████| 250/250 [00:28<00:00,  8.84it/s, loss=0.0278]\n",
            "Epoch [78/80]: 100%|██████████| 250/250 [00:28<00:00,  8.70it/s, loss=0.0209]\n",
            "Epoch [79/80]: 100%|██████████| 250/250 [00:28<00:00,  8.77it/s, loss=0.0664]\n",
            "Epoch [80/80]: 100%|██████████| 250/250 [00:28<00:00,  8.87it/s, loss=0.0133]\n",
            "Accuracy of the model on the test images: 45.53 %\n",
            "\n",
            "====== Training on All Nodes =====\n",
            "127.0.0.1: success\n",
            "\n",
            "====== Stopping All Nodes =====\n",
            "127.0.0.1: finish\n"
          ]
        }
      ]
    }
  ],
  "metadata": {
    "accelerator": "GPU",
    "colab": {
      "cell_execution_strategy": "setup",
      "gpuType": "T4",
      "provenance": []
    },
    "kernelspec": {
      "display_name": "Python 3",
      "name": "python3"
    },
    "language_info": {
      "name": "python"
    }
  },
  "nbformat": 4,
  "nbformat_minor": 0
}